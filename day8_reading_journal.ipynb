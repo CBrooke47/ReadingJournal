{
 "cells": [
  {
   "cell_type": "markdown",
   "metadata": {},
   "source": [
    "# Day 8 Reading Journal\n",
    "\n",
    "This journal includes several required exercises, but it is meant to encourage active reading more generally.  You should use the journal to take detailed notes, catalog questions, and explore the content from Think Python deeply.\n",
    "\n",
    "Reading: Think Python Chapter 12\n",
    "\n",
    "**Due: Thursday, September 29 at 12 noon**\n"
   ]
  },
  {
   "cell_type": "markdown",
   "metadata": {},
   "source": [
    "## [Chapter 12](http://www.greenteapress.com/thinkpython/html/thinkpython013.html)"
   ]
  },
  {
   "cell_type": "markdown",
   "metadata": {},
   "source": [
    "### Exercise 2 \n",
    "Exercise 12.2. In this example, ties are broken by comparing words, so words with the same length appear in reverse alphabetical order. For other applications you might want to break ties at ran- dom. Modify this example so that words with the same length appear in random order. Hint: see the random function in the random module."
   ]
  },
  {
   "cell_type": "code",
   "execution_count": 1,
   "metadata": {
    "collapsed": false
   },
   "outputs": [
    {
     "data": {
      "text/plain": [
       "['reading', 'journal', 'eight', 'This', 'day', 'is']"
      ]
     },
     "execution_count": 1,
     "metadata": {},
     "output_type": "execute_result"
    }
   ],
   "source": [
    "def sort_by_length(words):\n",
    "    t = []\n",
    "    for word in words:\n",
    "       t.append((len(word), word))\n",
    "    t.sort(reverse=True)\n",
    "    res = []\n",
    "    for length, word in t:\n",
    "        res.append(word)\n",
    "    return res\n",
    "\n",
    "sort_by_length([\"This\", \"is\", \"day\", \"eight\", \"reading\",\"journal\"])"
   ]
  },
  {
   "cell_type": "markdown",
   "metadata": {},
   "source": [
    "### Exercise 4\n",
    "\n",
    "1. Write a program that reads a word list from a file (see Section 9.1) and prints all the sets of\n",
    "words that are anagrams.\n",
    "Here is an example of what the output might look like:\n",
    "\n",
    "     ['deltas', 'desalt', 'lasted', 'salted', 'slated', 'staled']\n",
    "     ['retainers', 'ternaries']\n",
    "     ['generating', 'greatening']\n",
    "     ['resmelts', 'smelters', 'termless']\n",
    "\n",
    "Hint: you might want to build a dictionary that maps from a set of letters to a list of words that can be spelled with those letters. The question is, how can you represent the set of letters in a way that can be used as a key?"
   ]
  },
  {
   "cell_type": "code",
   "execution_count": 7,
   "metadata": {
    "collapsed": false
   },
   "outputs": [],
   "source": [
    "def make_wordlist(file):\n",
    "    result = []\n",
    "    wordlist = open(file)\n",
    "    for line in wordlist:\n",
    "        word = line.strip()\n",
    "        result += [word]\n",
    "    return result\n",
    "\n",
    "wordlist = make_wordlist(\"words.txt\")\n",
    "\n",
    "def find_anagrams(wordlist):\n",
    "    d = {}\n",
    "    for item in wordlist:\n",
    "        letters = []\n",
    "        for letter in item:\n",
    "            letters += letter\n",
    "        r = tuple(sorted(letters))\n",
    "        if r in d:\n",
    "            d[r].append(item)\n",
    "        else:\n",
    "            d[r] = [item]\n",
    "\n",
    "    anagrams = []\n",
    "    for item in d.values():\n",
    "        if len(item) > 1:\n",
    "            anagrams += [item]\n",
    "    return anagrams"
   ]
  },
  {
   "cell_type": "markdown",
   "metadata": {},
   "source": [
    "2\\. Modify the previous program so that it prints the largest set of anagrams first, followed by the second largest set, and so on."
   ]
  },
  {
   "cell_type": "code",
   "execution_count": 2,
   "metadata": {
    "collapsed": true
   },
   "outputs": [],
   "source": [
    "def find_anagrams(wordlist):\n",
    "    d = {}\n",
    "    for item in wordlist:\n",
    "        letters = []\n",
    "        for letter in item:\n",
    "            letters += letter\n",
    "        r = tuple(sorted(letters))\n",
    "        if r in d:\n",
    "            d[r].append(item)\n",
    "        else:\n",
    "            d[r] = [item]\n",
    "\n",
    "    anagrams = []\n",
    "    for item in d.values():\n",
    "        if len(item) > 1:\n",
    "            anagrams += [item]\n",
    "\n",
    "    sorted_anagrams = sorted(anagrams, key=len, reverse=True)\n",
    "    return sorted_anagrams\n",
    "\n"
   ]
  },
  {
   "cell_type": "markdown",
   "metadata": {},
   "source": [
    "3\\. In Scrabble a “bingo” is when you play all seven tiles in your rack, along with a letter on the board, to form an eight-letter word. What set of 8 letters forms the most possible bingos? Hint: there are seven."
   ]
  },
  {
   "cell_type": "code",
   "execution_count": 14,
   "metadata": {
    "collapsed": false
   },
   "outputs": [],
   "source": [
    "def find_bingos(wordlist):\n",
    "    candidates = [mydict[key] for key in mydict if len(key) == 8]\n",
    "    candidates.sort(key=len, reverse=True)\n",
    " \n",
    "    for i in range(0, 5):\n",
    "        print(\"%s) \" % (i + 1), candidates[i])\n",
    "    return canidates"
   ]
  },
  {
   "cell_type": "markdown",
   "metadata": {},
   "source": [
    "# Quick poll\n",
    "About how long did you spend working on this Reading Journal?"
   ]
  },
  {
   "cell_type": "code",
   "execution_count": null,
   "metadata": {
    "collapsed": true
   },
   "outputs": [],
   "source": [
    "2 hrsS"
   ]
  },
  {
   "cell_type": "markdown",
   "metadata": {},
   "source": [
    " "
   ]
  }
 ],
 "metadata": {
  "anaconda-cloud": {},
  "kernelspec": {
   "display_name": "Python [Root]",
   "language": "python",
   "name": "Python [Root]"
  },
  "language_info": {
   "codemirror_mode": {
    "name": "ipython",
    "version": 3
   },
   "file_extension": ".py",
   "mimetype": "text/x-python",
   "name": "python",
   "nbconvert_exporter": "python",
   "pygments_lexer": "ipython3",
   "version": "3.5.2"
  }
 },
 "nbformat": 4,
 "nbformat_minor": 0
}
