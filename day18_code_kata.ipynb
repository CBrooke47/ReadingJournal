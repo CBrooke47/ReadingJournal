{
 "cells": [
  {
   "cell_type": "markdown",
   "metadata": {},
   "source": [
    "# Day 18 Kata: Data Munging\n",
    "\n",
    "A [code katas](http://codekata.com) is a short exercise for practicing particular Python skills.\n",
    "\n",
    "This exercise is adapted from [Kata04](http://codekata.com/kata/kata04-data-munging/), by Dave Thomas.\n",
    "\n",
    "**Due: Monday, November 7 at 12 noon**"
   ]
  },
  {
   "cell_type": "markdown",
   "metadata": {},
   "source": [
    "### Part One: Weather Data\n",
    "\n",
    "In `./data/weather.dat` you’ll find daily weather data for Morristown, NJ for June 2002.\n",
    "Write a function that outputs the day number (column one) with the smallest temperature spread (the maximum temperature is the second column, the minimum the third column)."
   ]
  },
  {
   "cell_type": "code",
   "execution_count": null,
   "metadata": {
    "collapsed": false
   },
   "outputs": [],
   "source": [
    "def find_day_with_smallest_spread():\n",
    "    f = open('./data/weather.dat')\n",
    "    day_num = []\n",
    "    min_temp = []\n",
    "    max_temp = []\n",
    "    smallest = []\n",
    "    i = 1\n",
    "    for line in f:\n",
    "        text = line.replace('*','').split()\n",
    "        if text != []:\n",
    "            day_num.append(text[0])\n",
    "            min_temp.append(text[2])\n",
    "            max_temp.append(text[1])\n",
    "    del day_num[0], day_num[len(day_num)-1], min_temp[0], max_temp[0]\n",
    "    for i in range(len(day_num)): \n",
    "        minimum = float(min_temp[i])\n",
    "        maximum = float(max_temp[i])\n",
    "        diff = maximum - minimum\n",
    "        smallest.append(diff)\n",
    "    print(day_num[smallest.index(min(smallest))] + \": \" + str(min(smallest)))\n",
    "            \n",
    "find_day_with_smallest_spread()"
   ]
  },
  {
   "cell_type": "markdown",
   "metadata": {},
   "source": [
    "### Part Two: Soccer League Table\n",
    "The file `./data/football.dat` contains the results from the English Premier League for 2001/2.\n",
    "The columns labeled ‘F’ and ‘A’ contain the total number of goals scored for and against each team in that season (so Arsenal scored 79 goals against opponents, and had 36 goals scored against them).\n",
    "Write a function to print the name of the team with the smallest difference in ‘for’ and ‘against’ goals."
   ]
  },
  {
   "cell_type": "code",
   "execution_count": null,
   "metadata": {
    "collapsed": true
   },
   "outputs": [],
   "source": [
    "def find_team_with_smallest_difference():\n",
    "    data = open('./data/football.dat')\n",
    "    team_names = []\n",
    "    difference = []\n",
    "    f = []\n",
    "    a = []\n",
    "    smallest = []\n",
    "    for line in data:\n",
    "        text = line.split()\n",
    "        if len(text) == 10:\n",
    "            team_names.append(text[1])\n",
    "            f.append(text[6])\n",
    "            a.append(text[8])\n",
    "    for i in range(len(f)):\n",
    "        F = float(f[i])\n",
    "        A = float(a[i])\n",
    "        diff = F - A\n",
    "        smallest.append(abs(diff))\n",
    "    print team_names[smallest.index(min(smallest))] + \": \" + str(min(smallest))\n",
    "        \n",
    "find_team_with_smallest_difference()"
   ]
  },
  {
   "cell_type": "markdown",
   "metadata": {},
   "source": [
    "### Part Three: DRY Fusion\n",
    "“In software engineering, **d**on't **r**epeat **y**ourself (DRY) is a principle of software development, aimed at reducing repetition of information of all kinds” – [Wikipedia](https://en.wikipedia.org/wiki/Don%27t_repeat_yourself).\n",
    "\n",
    "(Compare this to [copy and paste programming](https://en.wikipedia.org/wiki/Copy_and_paste_programming).)\n",
    "\n",
    "Take the two functions written previously and [factor out](https://en.wikipedia.org/wiki/Code_refactoring) as much common code as possible, leaving you with two smaller functions that each call a third function."
   ]
  },
  {
   "cell_type": "code",
   "execution_count": null,
   "metadata": {
    "collapsed": true
   },
   "outputs": [],
   "source": [
    "\n",
    "\n",
    "def data_to_list(data):\n",
    "    f = open(data)\n",
    "    lines = []\n",
    "    for line in f:\n",
    "        lines.append(line.replace('*','').split())\n",
    "    return lines\n",
    "\n",
    "def print_smallest_difference(maximum, minimum, names):\n",
    "    smallest = []\n",
    "    for i in range(len(maximum)):\n",
    "        maxval = float(maximum[i])\n",
    "        minval = float(minimum[i])\n",
    "        diff = maxval - minval\n",
    "        smallest.append(abs(diff))\n",
    "    print names[smallest.index(min(smallest))] + \": \" + str(min(smallest))\n",
    "\n",
    "\n",
    "def find_day_with_smallest_spread(data):\n",
    "    day_num = []\n",
    "    min_temp = []\n",
    "    max_temp = []\n",
    "    lines = data_to_list(data)\n",
    "    for line in lines:\n",
    "        if line != []:\n",
    "            day_num.append(line[0])\n",
    "            min_temp.append(line[2])\n",
    "            max_temp.append(line[1])\n",
    "    del day_num[0], day_num[len(day_num)-1], min_temp[0], max_temp[0]\n",
    "    print_smallest_difference(max_temp, min_temp, day_num)\n",
    "    \n",
    "find_day_with_smallest_spread('./data/weather.dat')\n",
    "\n",
    "def find_team_with_smallest_difference(data):\n",
    "    team_names = []\n",
    "    difference = []\n",
    "    f = []\n",
    "    a = []\n",
    "    lines = data_to_list(data)\n",
    "    for line in lines:\n",
    "        if len(line) == 10:\n",
    "            team_names.append(line[1])\n",
    "            f.append(line[6])\n",
    "            a.append(line[8])\n",
    "    print_smallest_difference(f, a, team_names)\n",
    "    \n",
    "find_team_with_smallest_difference('./data/football.dat')\n",
    "\n"
   ]
  },
  {
   "cell_type": "markdown",
   "metadata": {},
   "source": [
    "## Quick poll\n",
    "\n",
    "About how long did you spend working on this Reading Journal?"
   ]
  },
  {
   "cell_type": "markdown",
   "metadata": {},
   "source": [
    "5 hrs"
   ]
  },
  {
   "cell_type": "markdown",
   "metadata": {},
   "source": [
    "## Reading Journal feedback\n",
    "\n",
    "Have any comments on this Reading Journal? Feel free to leave them below and we'll read them when you submit your journal entry. This could include suggestions to improve the exercises, topics you'd like to see covered in class next time, or other feedback.\n",
    "If you have Python questions or run into problems while completing the reading, you should post them to Piazza instead so you can get a quick response before your journal is submitted."
   ]
  },
  {
   "cell_type": "markdown",
   "metadata": {},
   "source": []
  }
 ],
 "metadata": {
  "anaconda-cloud": {},
  "kernelspec": {
   "display_name": "Python [Root]",
   "language": "python",
   "name": "Python [Root]"
  },
  "language_info": {
   "codemirror_mode": {
    "name": "ipython",
    "version": 3
   },
   "file_extension": ".py",
   "mimetype": "text/x-python",
   "name": "python",
   "nbconvert_exporter": "python",
   "pygments_lexer": "ipython3",
   "version": "3.5.2"
  }
 },
 "nbformat": 4,
 "nbformat_minor": 0
}
